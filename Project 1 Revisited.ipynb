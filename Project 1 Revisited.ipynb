{
 "cells": [
  {
   "cell_type": "markdown",
   "id": "8931c46d",
   "metadata": {},
   "source": [
    "## Project 1 Revisited: Importances and Coefficients\n",
    "---\n",
    "* ### Ingrid Arbieto Nelson"
   ]
  },
  {
   "cell_type": "markdown",
   "id": "e8d8b75c",
   "metadata": {
    "toc": true
   },
   "source": [
    "<h1>Table of Contents<span class=\"tocSkip\"></span></h1>\n",
    "<div class=\"toc\"><ul class=\"toc-item\"><li><span><a href=\"#Project-1-Revisited:-Importances-and-Coefficients\" data-toc-modified-id=\"Project-1-Revisited:-Importances-and-Coefficients-1\">Project 1 Revisited: Importances and Coefficients</a></span><ul class=\"toc-item\"><li><span><a href=\"#Ingrid-Arbieto-Nelson\" data-toc-modified-id=\"Ingrid-Arbieto-Nelson-1.1\">Ingrid Arbieto Nelson</a></span></li><li><span><a href=\"#Task\" data-toc-modified-id=\"Task-1.2\">Task</a></span><ul class=\"toc-item\"><li><span><a href=\"#Project-1-Revisited---Part-1:-Remaking,-Saving,-and-Explaining-Your-Models\" data-toc-modified-id=\"Project-1-Revisited---Part-1:-Remaking,-Saving,-and-Explaining-Your-Models-1.2.1\">Project 1 Revisited - Part 1: Remaking, Saving, and Explaining Your Models</a></span></li></ul></li><li><span><a href=\"#LinearRegression\" data-toc-modified-id=\"LinearRegression-1.3\">LinearRegression</a></span></li><li><span><a href=\"#Tree-Based-Model\" data-toc-modified-id=\"Tree-Based-Model-1.4\">Tree-Based Model</a></span></li><li><span><a href=\"#Serialize-Your-Best-Models-with-Joblib\" data-toc-modified-id=\"Serialize-Your-Best-Models-with-Joblib-1.5\">Serialize Your Best Models with Joblib</a></span></li><li><span><a href=\"#Update-your-README.\" data-toc-modified-id=\"Update-your-README.-1.6\">Update your README.</a></span></li></ul></li></ul></div>"
   ]
  },
  {
   "cell_type": "markdown",
   "id": "382d2293",
   "metadata": {},
   "source": [
    "### Task\n",
    "For this assignment, you will revisit your first project to predict supermarket sales. You will apply what you've learned this week to explain how your models made their predictions.\n",
    "\n",
    "#### Project 1 Revisited - Part 1: Remaking, Saving, and Explaining Your Models\n",
    "For this part of the project, you will be producing a new version of your final project notebook using the updated tools in sklearn v1.1. \n",
    "\n",
    "* Create a new notebook called \"Project 1 - Revisited.ipynb\" in your project repo.\n",
    "  * You may either make a copy of your prior notebook that you will modify, or you can start a new blank notebook and copy over the code from your old notebook (as needed).\n",
    "* Remake your X_train and X_test as DataFrames with the feature names extracted from the column transformer instead of combining your preprocessor and model into 1 pipeline.\n",
    "\n",
    "### LinearRegression\n",
    "* Fit and evaluate your LinearRegresion model using your dataframe X_train and X_test data.\n",
    "* Extract and visualize the coefficients that your model determined.\n",
    "   * Select the top 3 most impactful features and interpret their coefficients in plain English.\n",
    "* Save your figure as a .png file inside your repository (you will need this for the final piece of this assignment - Update Your README).\n",
    "\n",
    "### Tree-Based Model\n",
    "* Fit and evaluate your tree-based regression model using your dataframe X_train and X_test data.\n",
    "* Extract and visualize the feature importances that your model determined.\n",
    "  * Identify the top 5 most important features.\n",
    "* Save your figure as a .png file inside your repository  (you will need this for the final piece of this assignment - Update Your README).\n",
    "\n",
    "### Serialize Your Best Models with Joblib\n",
    "* Once you've finished updating and explaining your models, you must save the following key: value pairs as a dictionary in a joblib file named \"best-models.joblib\":\n",
    "   * \"preprocessor\": your preprocessing  column transformer\n",
    "   * \"X_train\": your training features.\n",
    "   * \"X_test\": your test features.\n",
    "   * \"y_train\": your training target.\n",
    "   * \"y_test\": your test target.\n",
    "   * \"LinearRegression\": your best linear regression\n",
    "   * Your tree-based model's class name: your best tree-based model.\n",
    "      * e.g. \"RandomForestRegressor\"/\"DecisionTreeRegressor\"\n",
    "   * Save your joblib file inside your repository. *(You will work with these models again in the next core assignment.)*\n",
    "\n",
    "### Update your README.\n",
    "Insert your exported figures from above into your README file. You should have the following:\n",
    "* Your LinearRegression coefficients plot.\n",
    "   *  Your interpretation of your coefficients.\n",
    "*  Your tree-based model's feature importances.\n",
    "   * Your interpretation of your feature importances. "
   ]
  }
 ],
 "metadata": {
  "kernelspec": {
   "display_name": "Python (dojo-env)",
   "language": "python",
   "name": "dojo-env"
  },
  "language_info": {
   "codemirror_mode": {
    "name": "ipython",
    "version": 3
   },
   "file_extension": ".py",
   "mimetype": "text/x-python",
   "name": "python",
   "nbconvert_exporter": "python",
   "pygments_lexer": "ipython3",
   "version": "3.9.15"
  },
  "toc": {
   "base_numbering": 1,
   "nav_menu": {},
   "number_sections": false,
   "sideBar": true,
   "skip_h1_title": false,
   "title_cell": "Table of Contents",
   "title_sidebar": "Contents",
   "toc_cell": true,
   "toc_position": {},
   "toc_section_display": true,
   "toc_window_display": true
  }
 },
 "nbformat": 4,
 "nbformat_minor": 5
}
